{
 "cells": [
  {
   "cell_type": "code",
   "execution_count": 79,
   "metadata": {},
   "outputs": [],
   "source": [
    "from neo4j import GraphDatabase\n",
    "from random import randint,choice\n",
    "import datetime"
   ]
  },
  {
   "cell_type": "code",
   "execution_count": 2,
   "metadata": {},
   "outputs": [],
   "source": [
    "conn = GraphDatabase.driver(uri = \"bolt://localhost:7687\",auth=(\"vishal\",'123456'))"
   ]
  },
  {
   "cell_type": "code",
   "execution_count": 3,
   "metadata": {},
   "outputs": [
    {
     "name": "stdout",
     "output_type": "stream",
     "text": [
      "<neo4j.BoltDriver object at 0x000001DB68924CC8>\n"
     ]
    }
   ],
   "source": [
    "print(conn)"
   ]
  },
  {
   "cell_type": "code",
   "execution_count": 4,
   "metadata": {},
   "outputs": [
    {
     "data": {
      "text/plain": [
       "IPv4Address(('localhost', 7687))"
      ]
     },
     "execution_count": 4,
     "metadata": {},
     "output_type": "execute_result"
    }
   ],
   "source": [
    "conn.address"
   ]
  },
  {
   "cell_type": "code",
   "execution_count": 5,
   "metadata": {},
   "outputs": [
    {
     "data": {
      "text/plain": [
       "<neo4j.work.simple.Session at 0x1db6c1e6d08>"
      ]
     },
     "execution_count": 5,
     "metadata": {},
     "output_type": "execute_result"
    }
   ],
   "source": [
    "conn.session()"
   ]
  },
  {
   "cell_type": "code",
   "execution_count": 6,
   "metadata": {},
   "outputs": [
    {
     "data": {
      "text/plain": [
       "<bound method experimental.<locals>.f__.<locals>.f_ of <neo4j.BoltDriver object at 0x000001DB68924CC8>>"
      ]
     },
     "execution_count": 6,
     "metadata": {},
     "output_type": "execute_result"
    }
   ],
   "source": [
    "conn.verify_connectivity"
   ]
  },
  {
   "cell_type": "code",
   "execution_count": 7,
   "metadata": {},
   "outputs": [
    {
     "name": "stderr",
     "output_type": "stream",
     "text": [
      "G:\\Anaconda\\lib\\site-packages\\ipykernel_launcher.py:1: ExperimentalWarning: The configuration may change in the future.\n",
      "  \"\"\"Entry point for launching an IPython kernel.\n"
     ]
    },
    {
     "data": {
      "text/plain": [
       "'Neo4j/4.2.1'"
      ]
     },
     "execution_count": 7,
     "metadata": {},
     "output_type": "execute_result"
    }
   ],
   "source": [
    "conn.verify_connectivity()"
   ]
  },
  {
   "cell_type": "code",
   "execution_count": 8,
   "metadata": {},
   "outputs": [
    {
     "data": {
      "text/plain": [
       "<bound method BoltDriver.session of <neo4j.BoltDriver object at 0x000001DB68924CC8>>"
      ]
     },
     "execution_count": 8,
     "metadata": {},
     "output_type": "execute_result"
    }
   ],
   "source": [
    "conn.session"
   ]
  },
  {
   "cell_type": "code",
   "execution_count": 13,
   "metadata": {},
   "outputs": [],
   "source": [
    "sess = conn.session(database=\"python3\")"
   ]
  },
  {
   "cell_type": "code",
   "execution_count": 14,
   "metadata": {},
   "outputs": [
    {
     "data": {
      "text/plain": [
       "<neo4j.work.result.Result at 0x1db6c225608>"
      ]
     },
     "execution_count": 14,
     "metadata": {},
     "output_type": "execute_result"
    }
   ],
   "source": [
    "sess.run(\"CREATE(a:Product{ProdName:'Pen'})\")"
   ]
  },
  {
   "cell_type": "code",
   "execution_count": 15,
   "metadata": {},
   "outputs": [
    {
     "data": {
      "text/plain": [
       "<neo4j.work.result.Result at 0x1db6c229588>"
      ]
     },
     "execution_count": 15,
     "metadata": {},
     "output_type": "execute_result"
    }
   ],
   "source": [
    "sess.run(\"CREATE(s:Supplier{SuppName :'Reynolds'})\")"
   ]
  },
  {
   "cell_type": "code",
   "execution_count": 16,
   "metadata": {},
   "outputs": [
    {
     "data": {
      "text/plain": [
       "<neo4j.work.result.Result at 0x1db6c2282c8>"
      ]
     },
     "execution_count": 16,
     "metadata": {},
     "output_type": "execute_result"
    }
   ],
   "source": [
    "sess.run(\"MATCH(a:Product{ProdName:'Pen'}) \\\n",
    "         MATCH(s:Supplier{SuppName :'Reynolds'}) \\\n",
    "         CREATE (s)-[:SUPPLY]->(a)\\\n",
    "         \")"
   ]
  },
  {
   "cell_type": "code",
   "execution_count": 22,
   "metadata": {},
   "outputs": [
    {
     "data": {
      "text/plain": [
       "<neo4j.work.result.Result at 0x1db6e2ebec8>"
      ]
     },
     "execution_count": 22,
     "metadata": {},
     "output_type": "execute_result"
    }
   ],
   "source": [
    "sess.run(\"CREATE(a:Product{ProdName:'Printer'})\")"
   ]
  },
  {
   "cell_type": "code",
   "execution_count": 23,
   "metadata": {},
   "outputs": [
    {
     "data": {
      "text/plain": [
       "<neo4j.work.result.Result at 0x1db6c20ce08>"
      ]
     },
     "execution_count": 23,
     "metadata": {},
     "output_type": "execute_result"
    }
   ],
   "source": [
    "sess.run(\"CREATE(s:Supplier{SuppName :'Brother'})\")"
   ]
  },
  {
   "cell_type": "code",
   "execution_count": 24,
   "metadata": {},
   "outputs": [
    {
     "data": {
      "text/plain": [
       "<neo4j.work.result.Result at 0x1db6ede2d88>"
      ]
     },
     "execution_count": 24,
     "metadata": {},
     "output_type": "execute_result"
    }
   ],
   "source": [
    "sess.run(\"MATCH(a:Product{ProdName:'Printer'}) \\\n",
    "         MATCH(s:Supplier{SuppName :'Brother'}) \\\n",
    "         CREATE (s)-[:SUPPLY]->(a)\\\n",
    "         \")"
   ]
  },
  {
   "cell_type": "code",
   "execution_count": 25,
   "metadata": {},
   "outputs": [
    {
     "data": {
      "text/plain": [
       "<neo4j.work.result.Result at 0x1db6edbfc08>"
      ]
     },
     "execution_count": 25,
     "metadata": {},
     "output_type": "execute_result"
    }
   ],
   "source": [
    "sess.run(\"MATCH(a:Product{ProdName:'Printer'}) \\\n",
    "         MERGE(s:Supplier{SuppName :'Cannon'}) \\\n",
    "         CREATE (s)-[:SUPPLY]->(a)\\\n",
    "         \")"
   ]
  },
  {
   "cell_type": "code",
   "execution_count": 26,
   "metadata": {},
   "outputs": [
    {
     "data": {
      "text/plain": [
       "<neo4j.work.result.Result at 0x1db6e319448>"
      ]
     },
     "execution_count": 26,
     "metadata": {},
     "output_type": "execute_result"
    }
   ],
   "source": [
    "sess.run(\"MATCH(a:Product{ProdName:'Printer'}) \\\n",
    "         MERGE(s:Supplier{SuppName :'HP'}) \\\n",
    "         CREATE (s)-[:SUPPLY]->(a)\\\n",
    "         \")"
   ]
  },
  {
   "cell_type": "code",
   "execution_count": 27,
   "metadata": {},
   "outputs": [
    {
     "data": {
      "text/plain": [
       "<neo4j.work.result.Result at 0x1db6e324888>"
      ]
     },
     "execution_count": 27,
     "metadata": {},
     "output_type": "execute_result"
    }
   ],
   "source": [
    "sess.run(\"MERGE(a:Product{ProdName:'File Cover'}) \\\n",
    "         MERGE(s:Supplier{SuppName :'up&up'}) \\\n",
    "         CREATE (s)-[:SUPPLY]->(a)\\\n",
    "         \")"
   ]
  },
  {
   "cell_type": "code",
   "execution_count": 28,
   "metadata": {},
   "outputs": [
    {
     "data": {
      "text/plain": [
       "<neo4j.work.result.Result at 0x1db6e331b48>"
      ]
     },
     "execution_count": 28,
     "metadata": {},
     "output_type": "execute_result"
    }
   ],
   "source": [
    "sess.run(\"MERGE(a:Product{ProdName:'Envelopes'}) \\\n",
    "         MERGE(s:Supplier{SuppName :'Prince'}) \\\n",
    "         CREATE (s)-[:SUPPLY]->(a)\\\n",
    "         \")"
   ]
  },
  {
   "cell_type": "code",
   "execution_count": 29,
   "metadata": {},
   "outputs": [
    {
     "data": {
      "text/plain": [
       "<neo4j.work.result.Result at 0x1db6e33db88>"
      ]
     },
     "execution_count": 29,
     "metadata": {},
     "output_type": "execute_result"
    }
   ],
   "source": [
    "sess.run(\"MERGE(a:Product{ProdName:'Envelopes'}) \\\n",
    "         MERGE(s:Supplier{SuppName :'Prince'}) \\\n",
    "         CREATE (s)-[:SUPPLY]->(a)\\\n",
    "         \")"
   ]
  },
  {
   "cell_type": "code",
   "execution_count": 30,
   "metadata": {},
   "outputs": [
    {
     "data": {
      "text/plain": [
       "<neo4j.work.result.Result at 0x1db6e34b1c8>"
      ]
     },
     "execution_count": 30,
     "metadata": {},
     "output_type": "execute_result"
    }
   ],
   "source": [
    "sess.run(\"MERGE(a:Product{ProdName:'Markers'}) \\\n",
    "         MERGE(s:Supplier{SuppName :'Reynolds'}) \\\n",
    "         CREATE (s)-[:SUPPLY]->(a)\\\n",
    "         \")"
   ]
  },
  {
   "cell_type": "code",
   "execution_count": 33,
   "metadata": {},
   "outputs": [
    {
     "data": {
      "text/plain": [
       "<neo4j.work.result.Result at 0x1db6e34f448>"
      ]
     },
     "execution_count": 33,
     "metadata": {},
     "output_type": "execute_result"
    }
   ],
   "source": [
    "sess.run(\"Create(c:Category{CategoryNm : 'Stationary'})\")"
   ]
  },
  {
   "cell_type": "code",
   "execution_count": 34,
   "metadata": {},
   "outputs": [
    {
     "data": {
      "text/plain": [
       "<neo4j.work.result.Result at 0x1db6e3347c8>"
      ]
     },
     "execution_count": 34,
     "metadata": {},
     "output_type": "execute_result"
    }
   ],
   "source": [
    "sess.run(\"MATCH(c:Category) \\\n",
    "          MATCH (p:Product)\\\n",
    "          Create (p)-[:HAS_CATEGORY]->(c)\\\n",
    "          \"\n",
    "        )"
   ]
  },
  {
   "cell_type": "code",
   "execution_count": 35,
   "metadata": {},
   "outputs": [],
   "source": [
    "prod_list = ['Printer','Pen','Markers','File Cover','Notebooks','Envelopes']"
   ]
  },
  {
   "cell_type": "code",
   "execution_count": 124,
   "metadata": {},
   "outputs": [],
   "source": [
    "cust_list =['WF','BoA','JPM','Citi','USB','5/3rd','FirstCitizen','Walmart','Kroger','HT','CTS','TIAA']"
   ]
  },
  {
   "cell_type": "code",
   "execution_count": 81,
   "metadata": {},
   "outputs": [
    {
     "data": {
      "text/plain": [
       "<neo4j.work.result.Result at 0x1db6f267348>"
      ]
     },
     "execution_count": 81,
     "metadata": {},
     "output_type": "execute_result"
    }
   ],
   "source": [
    "sess.run(\"CREATE(a:Customer{CompanyName:'WF'})\")"
   ]
  },
  {
   "cell_type": "code",
   "execution_count": 82,
   "metadata": {},
   "outputs": [
    {
     "data": {
      "text/plain": [
       "<neo4j.work.result.Result at 0x1db6f26a4c8>"
      ]
     },
     "execution_count": 82,
     "metadata": {},
     "output_type": "execute_result"
    }
   ],
   "source": [
    "sess.run(\"CREATE(a:Customer{CompanyName:'BoA'})\")"
   ]
  },
  {
   "cell_type": "code",
   "execution_count": 83,
   "metadata": {},
   "outputs": [
    {
     "data": {
      "text/plain": [
       "<neo4j.work.result.Result at 0x1db6f271188>"
      ]
     },
     "execution_count": 83,
     "metadata": {},
     "output_type": "execute_result"
    }
   ],
   "source": [
    "sess.run(\"CREATE(a:Customer{CompanyName:'JPM'})\")\n",
    "sess.run(\"CREATE(a:Customer{CompanyName:'Citi'})\")\n",
    "sess.run(\"CREATE(a:Customer{CompanyName:'USB'})\")"
   ]
  },
  {
   "cell_type": "code",
   "execution_count": 84,
   "metadata": {},
   "outputs": [
    {
     "data": {
      "text/plain": [
       "<neo4j.work.result.Result at 0x1db6f27b688>"
      ]
     },
     "execution_count": 84,
     "metadata": {},
     "output_type": "execute_result"
    }
   ],
   "source": [
    "sess.run(\"CREATE(a:Customer{CompanyName:'5/3rd'})\")\n",
    "sess.run(\"CREATE(a:Customer{CompanyName:'FirstCitizen'})\")\n",
    "sess.run(\"CREATE(a:Customer{CompanyName:'Walmart'})\")\n",
    "sess.run(\"CREATE(a:Customer{CompanyName:'Kroger'})\")\n",
    "sess.run(\"CREATE(a:Customer{CompanyName:'HT'})\")\n",
    "sess.run(\"CREATE(a:Customer{CompanyName:'CTS'})\")\n",
    "sess.run(\"CREATE(a:Customer{CompanyName:'TIAA'})\")"
   ]
  },
  {
   "cell_type": "code",
   "execution_count": null,
   "metadata": {},
   "outputs": [],
   "source": []
  },
  {
   "cell_type": "code",
   "execution_count": 59,
   "metadata": {},
   "outputs": [
    {
     "name": "stdout",
     "output_type": "stream",
     "text": [
      "Notebooks\n",
      "Pen\n",
      "Printer\n",
      "File Cover\n",
      "Envelopes\n",
      "Notebooks\n",
      "Markers\n",
      "Wall time: 2.98 ms\n"
     ]
    }
   ],
   "source": [
    "%%time\n",
    "prod=choice(prod_list)\n",
    "print(prod)\n",
    "res = sess.run(\"MATCH (p:Product) RETURN p.ProdName as ProdName\")\n",
    "for record in res:\n",
    "    print(record[\"ProdName\"])"
   ]
  },
  {
   "cell_type": "code",
   "execution_count": 87,
   "metadata": {},
   "outputs": [
    {
     "name": "stdout",
     "output_type": "stream",
     "text": [
      "Pen\n",
      "Pen\n"
     ]
    }
   ],
   "source": [
    "prod=choice(prod_list)\n",
    "print(prod)\n",
    "res = sess.run(\"MATCH (p:Product{ProdName : $prod}) RETURN p.ProdName as ProdName\",prod=prod) # Need better understanding of the query\n",
    "for record in res:\n",
    "    print(record[\"ProdName\"])"
   ]
  },
  {
   "cell_type": "code",
   "execution_count": 86,
   "metadata": {},
   "outputs": [
    {
     "name": "stdout",
     "output_type": "stream",
     "text": [
      "Envelopes\n"
     ]
    }
   ],
   "source": [
    "prod=choice(prod_list)\n",
    "print(prod)"
   ]
  },
  {
   "cell_type": "code",
   "execution_count": null,
   "metadata": {},
   "outputs": [],
   "source": []
  },
  {
   "cell_type": "code",
   "execution_count": 134,
   "metadata": {},
   "outputs": [
    {
     "name": "stdout",
     "output_type": "stream",
     "text": [
      "ELSE : Line_Item : 1 100050 FirstCitizen 2020-06-09 Notebooks 34\n",
      "ELSE : Line_Item : 2 100050 FirstCitizen 2020-06-09 Pen 51\n",
      "ELSE : Line_Item : 5 100050 FirstCitizen 2020-06-09 Envelopes 33\n",
      "\n",
      "\n",
      "ELSE : Line_Item : 1 100051 Walmart 2020-10-19 Envelopes 60\n",
      "ELSE : Line_Item : 2 100051 Walmart 2020-10-19 Printer 50\n",
      "ELSE : Line_Item : 3 100051 Walmart 2020-10-19 Notebooks 46\n",
      "ELSE : Line_Item : 4 100051 Walmart 2020-10-19 Markers 39\n",
      "\n",
      "\n"
     ]
    }
   ],
   "source": [
    "for order in range(100050,100052):\n",
    "    #print('Order_id : ' + str(order))\n",
    "    prod=choice(prod_list)\n",
    "    #print(prod)\n",
    "    \n",
    "    start_date = datetime.date(2020, 1, 1)\n",
    "    random_days = randint(1,364)\n",
    "    Order_date = start_date + datetime.timedelta(days=random_days)\n",
    "    #print(Order_date)\n",
    "    \n",
    "    qty=randint(1,100)\n",
    "    #print(qty)\n",
    "    \n",
    "    CompanyName=choice(cust_list)\n",
    "    \n",
    "    \n",
    "    line_item = randint(1,6)\n",
    "    if line_item==1:\n",
    "        #Insert Data into Graph\n",
    "        sess.run(\"MATCH (p:Product{ProdName : $prod})\\\n",
    "                  MATCH (c:Customer{CompanyName : $CompanyName})\\\n",
    "                  MERGE(o:Order{OrderId:$order,OrderDt:$Order_date }) \\\n",
    "                  MERGE (c)-[:PLACED_ORDER]->(o)-[:HAS_PROD{Qty:$qty}]->(p)\\\n",
    "                 \",\n",
    "                 prod=prod,\n",
    "                 order=order,\n",
    "                 Order_date=Order_date,\n",
    "                 CompanyName=CompanyName,\n",
    "                 qty=qty\n",
    "            )\n",
    "        print(str(order) +' '+CompanyName +' '+prod+' '+str(Order_date)+' '+str(qty))\n",
    "    else:\n",
    "        #Insert Data into Graph\n",
    "        sess.run(\"MATCH (c:Customer{CompanyName : $CompanyName})\\\n",
    "                  MERGE(o:Order{OrderId:$order,OrderDt:$Order_date }) \\\n",
    "                  MERGE (c)-[:PLACED_ORDER]->(o)\\\n",
    "                 \",                 \n",
    "                 order=order,\n",
    "                 Order_date=Order_date,\n",
    "                 CompanyName=CompanyName\n",
    "                )\n",
    "        prod_tmp_lst =[]\n",
    "        for i in range(1,line_item+1):\n",
    "            prod=choice(prod_list)\n",
    "            if prod in prod_tmp_lst:\n",
    "                continue\n",
    "            prod_tmp_lst.append(prod)\n",
    "            qty=randint(1,100)\n",
    "            #Insert Data into Graph\n",
    "            sess.run(\"MATCH (p:Product{ProdName : $prod})\\\n",
    "                      MATCH (o:Order{OrderId:$order }) \\\n",
    "                      MERGE (o)-[:HAS_PROD{Qty:$qty}]->(p)\\\n",
    "                     \",\n",
    "                     prod=prod,\n",
    "                     order=order,\n",
    "                     qty=qty\n",
    "                )\n",
    "            print('ELSE : Line_Item : '+str(i)+' '+str(order) +' '+CompanyName+' '+str(Order_date) +' '+prod+' '+str(qty))\n",
    "    print('\\n')\n",
    "    "
   ]
  },
  {
   "cell_type": "code",
   "execution_count": 122,
   "metadata": {},
   "outputs": [
    {
     "name": "stdout",
     "output_type": "stream",
     "text": [
      "2\n",
      "i = 1\n"
     ]
    }
   ],
   "source": [
    "line_item = randint(1,6)\n",
    "print(line_item)\n",
    "for i in range(1,line_item):\n",
    "    print('i = '+ str(i))"
   ]
  },
  {
   "cell_type": "code",
   "execution_count": 128,
   "metadata": {},
   "outputs": [],
   "source": [
    "lst=['a','b']"
   ]
  },
  {
   "cell_type": "code",
   "execution_count": 129,
   "metadata": {},
   "outputs": [],
   "source": [
    "lst.append('c')"
   ]
  },
  {
   "cell_type": "code",
   "execution_count": 130,
   "metadata": {},
   "outputs": [
    {
     "data": {
      "text/plain": [
       "['a', 'b', 'c']"
      ]
     },
     "execution_count": 130,
     "metadata": {},
     "output_type": "execute_result"
    }
   ],
   "source": [
    "lst"
   ]
  },
  {
   "cell_type": "code",
   "execution_count": 131,
   "metadata": {},
   "outputs": [
    {
     "data": {
      "text/plain": [
       "True"
      ]
     },
     "execution_count": 131,
     "metadata": {},
     "output_type": "execute_result"
    }
   ],
   "source": [
    "'a' in lst"
   ]
  },
  {
   "cell_type": "code",
   "execution_count": 132,
   "metadata": {},
   "outputs": [],
   "source": [
    "lst=[]"
   ]
  },
  {
   "cell_type": "code",
   "execution_count": 133,
   "metadata": {},
   "outputs": [
    {
     "data": {
      "text/plain": [
       "[]"
      ]
     },
     "execution_count": 133,
     "metadata": {},
     "output_type": "execute_result"
    }
   ],
   "source": [
    "lst"
   ]
  },
  {
   "cell_type": "code",
   "execution_count": null,
   "metadata": {},
   "outputs": [],
   "source": []
  }
 ],
 "metadata": {
  "kernelspec": {
   "display_name": "Python 3",
   "language": "python",
   "name": "python3"
  },
  "language_info": {
   "codemirror_mode": {
    "name": "ipython",
    "version": 3
   },
   "file_extension": ".py",
   "mimetype": "text/x-python",
   "name": "python",
   "nbconvert_exporter": "python",
   "pygments_lexer": "ipython3",
   "version": "3.7.6"
  }
 },
 "nbformat": 4,
 "nbformat_minor": 4
}

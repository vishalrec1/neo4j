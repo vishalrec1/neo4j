{
 "cells": [
  {
   "cell_type": "code",
   "execution_count": 18,
   "metadata": {},
   "outputs": [],
   "source": [
    "from neo4j import GraphDatabase,basic_auth\n",
    "from random import randint,choice\n",
    "import datetime"
   ]
  },
  {
   "cell_type": "code",
   "execution_count": 19,
   "metadata": {},
   "outputs": [],
   "source": [
    "#Create Connection to Neo4j\n",
    "#conn = GraphDatabase.driver(uri = \"bolt://100.26.227.192:38697\",auth=basic_auth(\"neo4j\",\"frames-crashes-wind\"))\n",
    "conn = GraphDatabase.driver(uri = \"bolt://3.85.125.165:7687\",auth=basic_auth(\"neo4j\",\"holddowns-islands-thumb\"))"
   ]
  },
  {
   "cell_type": "code",
   "execution_count": 20,
   "metadata": {},
   "outputs": [
    {
     "data": {
      "text/plain": [
       "IPv4Address(('3.85.125.165', 7687))"
      ]
     },
     "execution_count": 20,
     "metadata": {},
     "output_type": "execute_result"
    }
   ],
   "source": [
    "conn.address"
   ]
  },
  {
   "cell_type": "code",
   "execution_count": 21,
   "metadata": {},
   "outputs": [
    {
     "data": {
      "text/plain": [
       "<neo4j.work.simple.Session at 0x1cc92fa9bc8>"
      ]
     },
     "execution_count": 21,
     "metadata": {},
     "output_type": "execute_result"
    }
   ],
   "source": [
    "conn.session()"
   ]
  },
  {
   "cell_type": "code",
   "execution_count": 22,
   "metadata": {},
   "outputs": [
    {
     "name": "stderr",
     "output_type": "stream",
     "text": [
      "G:\\Anaconda\\lib\\site-packages\\ipykernel_launcher.py:1: ExperimentalWarning: The configuration may change in the future.\n",
      "  \"\"\"Entry point for launching an IPython kernel.\n"
     ]
    },
    {
     "data": {
      "text/plain": [
       "'Neo4j/4.2.3'"
      ]
     },
     "execution_count": 22,
     "metadata": {},
     "output_type": "execute_result"
    }
   ],
   "source": [
    "conn.verify_connectivity()"
   ]
  },
  {
   "cell_type": "code",
   "execution_count": 23,
   "metadata": {},
   "outputs": [],
   "source": [
    "sess = conn.session()"
   ]
  },
  {
   "cell_type": "code",
   "execution_count": 24,
   "metadata": {},
   "outputs": [
    {
     "data": {
      "text/plain": [
       "<neo4j.work.result.Result at 0x1cc93073508>"
      ]
     },
     "execution_count": 24,
     "metadata": {},
     "output_type": "execute_result"
    }
   ],
   "source": [
    "sess.run(query=\"CREATE(a:Product{ProdName:'Pen'})\")\n",
    "sess.run(\"CREATE(a:Product{ProdName:'Printer'})\")\n",
    "sess.run(\"CREATE(s:Supplier{SuppName :'Reynolds'})\")\n",
    "sess.run(\"CREATE(s:Supplier{SuppName :'Brother'})\")\n",
    "\n",
    "sess.run(\"MATCH(a:Product{ProdName:'Pen'}) \\\n",
    "         MATCH(s:Supplier{SuppName :'Reynolds'}) \\\n",
    "         CREATE (s)-[:SUPPLY]->(a)\\\n",
    "         \")\n",
    "\n",
    "sess.run(\"MATCH(a:Product{ProdName:'Printer'}) \\\n",
    "         MATCH(s:Supplier{SuppName :'Brother'}) \\\n",
    "         CREATE (s)-[:SUPPLY]->(a)\\\n",
    "         \")\n",
    "\n",
    "sess.run(\"MATCH(a:Product{ProdName:'Printer'}) \\\n",
    "         MERGE(s:Supplier{SuppName :'Cannon'}) \\\n",
    "         CREATE (s)-[:SUPPLY]->(a)\\\n",
    "         \")\n",
    "\n",
    "sess.run(\"MATCH(a:Product{ProdName:'Printer'}) \\\n",
    "         MERGE(s:Supplier{SuppName :'HP'}) \\\n",
    "         CREATE (s)-[:SUPPLY]->(a)\\\n",
    "         \")\n",
    "\n",
    "sess.run(\"MERGE(a:Product{ProdName:'File Cover'}) \\\n",
    "         MERGE(s:Supplier{SuppName :'up&up'}) \\\n",
    "         CREATE (s)-[:SUPPLY]->(a)\\\n",
    "         \")\n",
    "\n",
    "sess.run(\"MERGE(a:Product{ProdName:'Envelopes'}) \\\n",
    "         MERGE(s:Supplier{SuppName :'Prince'}) \\\n",
    "         CREATE (s)-[:SUPPLY]->(a)\\\n",
    "         \")\n",
    "\n",
    "sess.run(\"MERGE(a:Product{ProdName:'Markers'}) \\\n",
    "         MERGE(s:Supplier{SuppName :'Reynolds'}) \\\n",
    "         CREATE (s)-[:SUPPLY]->(a)\\\n",
    "         \")\n"
   ]
  },
  {
   "cell_type": "code",
   "execution_count": 25,
   "metadata": {},
   "outputs": [
    {
     "data": {
      "text/plain": [
       "<neo4j.work.result.Result at 0x1cc92fcc788>"
      ]
     },
     "execution_count": 25,
     "metadata": {},
     "output_type": "execute_result"
    }
   ],
   "source": [
    "sess.run(\"Create(c:Category{CategoryNm : 'Stationary'})\")\n",
    "sess.run(\"MATCH(c:Category) \\\n",
    "          MATCH (p:Product)\\\n",
    "          Create (p)-[:HAS_CATEGORY]->(c)\\\n",
    "          \"\n",
    "        )"
   ]
  },
  {
   "cell_type": "code",
   "execution_count": 9,
   "metadata": {},
   "outputs": [],
   "source": [
    "prod_list = ['Printer','Pen','Markers','File Cover','Notebooks','Envelopes']\n",
    "cust_list =['WF','BoA','JPM','Citi','USB','5/3rd','FirstCitizen','Walmart','Kroger','HT','CTS','TIAA']"
   ]
  },
  {
   "cell_type": "code",
   "execution_count": 26,
   "metadata": {},
   "outputs": [
    {
     "data": {
      "text/plain": [
       "<neo4j.work.result.Result at 0x1cc93080408>"
      ]
     },
     "execution_count": 26,
     "metadata": {},
     "output_type": "execute_result"
    }
   ],
   "source": [
    "sess.run(\"CREATE(a:Customer{CompanyName:'WF'})\")\n",
    "sess.run(\"CREATE(a:Customer{CompanyName:'BoA'})\")\n",
    "sess.run(\"CREATE(a:Customer{CompanyName:'JPM'})\")\n",
    "sess.run(\"CREATE(a:Customer{CompanyName:'Citi'})\")\n",
    "sess.run(\"CREATE(a:Customer{CompanyName:'USB'})\")\n",
    "sess.run(\"CREATE(a:Customer{CompanyName:'5/3rd'})\")\n",
    "sess.run(\"CREATE(a:Customer{CompanyName:'FirstCitizen'})\")\n",
    "sess.run(\"CREATE(a:Customer{CompanyName:'Walmart'})\")\n",
    "sess.run(\"CREATE(a:Customer{CompanyName:'Kroger'})\")\n",
    "sess.run(\"CREATE(a:Customer{CompanyName:'HT'})\")\n",
    "sess.run(\"CREATE(a:Customer{CompanyName:'CTS'})\")\n",
    "sess.run(\"CREATE(a:Customer{CompanyName:'TIAA'})\")"
   ]
  },
  {
   "cell_type": "code",
   "execution_count": 27,
   "metadata": {},
   "outputs": [
    {
     "name": "stdout",
     "output_type": "stream",
     "text": [
      "ELSE : Line_Item : 1 100001 TIAA 2020-12-02 Envelopes 96\n",
      "ELSE : Line_Item : 3 100001 TIAA 2020-12-02 File Cover 26\n",
      "ELSE : Line_Item : 4 100001 TIAA 2020-12-02 Markers 50\n",
      "\n",
      "\n",
      "100002 CTS Markers 2020-03-23 81\n",
      "\n",
      "\n",
      "ELSE : Line_Item : 1 100003 CTS 2020-06-06 Notebooks 5\n",
      "ELSE : Line_Item : 2 100003 CTS 2020-06-06 Markers 86\n",
      "ELSE : Line_Item : 3 100003 CTS 2020-06-06 Printer 69\n",
      "ELSE : Line_Item : 4 100003 CTS 2020-06-06 Envelopes 10\n",
      "\n",
      "\n",
      "ELSE : Line_Item : 1 100004 Citi 2020-11-06 Notebooks 54\n",
      "ELSE : Line_Item : 2 100004 Citi 2020-11-06 Envelopes 3\n",
      "ELSE : Line_Item : 3 100004 Citi 2020-11-06 File Cover 86\n",
      "\n",
      "\n",
      "ELSE : Line_Item : 1 100005 BoA 2020-02-15 Pen 38\n",
      "ELSE : Line_Item : 2 100005 BoA 2020-02-15 Printer 61\n",
      "\n",
      "\n",
      "ELSE : Line_Item : 1 100006 FirstCitizen 2020-09-26 Envelopes 23\n",
      "ELSE : Line_Item : 2 100006 FirstCitizen 2020-09-26 Printer 20\n",
      "\n",
      "\n",
      "ELSE : Line_Item : 1 100007 5/3rd 2020-12-26 Notebooks 18\n",
      "ELSE : Line_Item : 3 100007 5/3rd 2020-12-26 Markers 5\n",
      "\n",
      "\n",
      "ELSE : Line_Item : 1 100008 USB 2020-03-20 Notebooks 93\n",
      "ELSE : Line_Item : 2 100008 USB 2020-03-20 Printer 91\n",
      "ELSE : Line_Item : 3 100008 USB 2020-03-20 Envelopes 38\n",
      "\n",
      "\n",
      "ELSE : Line_Item : 1 100009 FirstCitizen 2020-11-07 Printer 57\n",
      "ELSE : Line_Item : 2 100009 FirstCitizen 2020-11-07 File Cover 96\n",
      "\n",
      "\n",
      "ELSE : Line_Item : 1 100010 Walmart 2020-04-12 Pen 56\n",
      "ELSE : Line_Item : 2 100010 Walmart 2020-04-12 Envelopes 53\n",
      "ELSE : Line_Item : 4 100010 Walmart 2020-04-12 File Cover 8\n",
      "\n",
      "\n",
      "ELSE : Line_Item : 1 100011 FirstCitizen 2020-02-03 Notebooks 33\n",
      "ELSE : Line_Item : 2 100011 FirstCitizen 2020-02-03 Markers 16\n",
      "\n",
      "\n",
      "ELSE : Line_Item : 1 100012 JPM 2020-02-04 Printer 28\n",
      "ELSE : Line_Item : 2 100012 JPM 2020-02-04 Pen 42\n",
      "ELSE : Line_Item : 3 100012 JPM 2020-02-04 Envelopes 87\n",
      "\n",
      "\n",
      "ELSE : Line_Item : 1 100013 Citi 2020-08-24 Markers 9\n",
      "ELSE : Line_Item : 2 100013 Citi 2020-08-24 File Cover 10\n",
      "\n",
      "\n",
      "ELSE : Line_Item : 1 100014 Citi 2020-04-28 Notebooks 82\n",
      "ELSE : Line_Item : 4 100014 Citi 2020-04-28 Printer 54\n",
      "\n",
      "\n",
      "100015 JPM Notebooks 2020-12-18 33\n",
      "\n",
      "\n",
      "ELSE : Line_Item : 1 100016 USB 2020-11-08 File Cover 6\n",
      "ELSE : Line_Item : 2 100016 USB 2020-11-08 Printer 11\n",
      "ELSE : Line_Item : 3 100016 USB 2020-11-08 Notebooks 31\n",
      "\n",
      "\n",
      "100017 TIAA Printer 2020-11-04 3\n",
      "\n",
      "\n",
      "ELSE : Line_Item : 1 100018 BoA 2020-02-12 File Cover 16\n",
      "ELSE : Line_Item : 2 100018 BoA 2020-02-12 Markers 46\n",
      "ELSE : Line_Item : 3 100018 BoA 2020-02-12 Printer 81\n",
      "\n",
      "\n",
      "100019 JPM Pen 2020-04-08 72\n",
      "\n",
      "\n",
      "ELSE : Line_Item : 1 100020 USB 2020-03-23 Printer 82\n",
      "ELSE : Line_Item : 2 100020 USB 2020-03-23 Notebooks 16\n",
      "ELSE : Line_Item : 3 100020 USB 2020-03-23 File Cover 55\n",
      "ELSE : Line_Item : 4 100020 USB 2020-03-23 Envelopes 42\n",
      "\n",
      "\n",
      "ELSE : Line_Item : 1 100021 TIAA 2020-12-24 Printer 61\n",
      "ELSE : Line_Item : 2 100021 TIAA 2020-12-24 Notebooks 41\n",
      "\n",
      "\n",
      "ELSE : Line_Item : 1 100022 5/3rd 2020-05-21 File Cover 49\n",
      "ELSE : Line_Item : 2 100022 5/3rd 2020-05-21 Pen 46\n",
      "ELSE : Line_Item : 3 100022 5/3rd 2020-05-21 Notebooks 24\n",
      "\n",
      "\n",
      "ELSE : Line_Item : 1 100023 BoA 2020-02-25 File Cover 70\n",
      "ELSE : Line_Item : 2 100023 BoA 2020-02-25 Envelopes 67\n",
      "ELSE : Line_Item : 3 100023 BoA 2020-02-25 Pen 19\n",
      "\n",
      "\n",
      "ELSE : Line_Item : 1 100024 Kroger 2020-07-11 Envelopes 92\n",
      "ELSE : Line_Item : 2 100024 Kroger 2020-07-11 File Cover 64\n",
      "ELSE : Line_Item : 3 100024 Kroger 2020-07-11 Notebooks 47\n",
      "\n",
      "\n",
      "ELSE : Line_Item : 1 100025 FirstCitizen 2020-09-27 Notebooks 84\n",
      "ELSE : Line_Item : 2 100025 FirstCitizen 2020-09-27 Envelopes 1\n",
      "\n",
      "\n",
      "ELSE : Line_Item : 1 100026 CTS 2020-10-04 Printer 27\n",
      "ELSE : Line_Item : 2 100026 CTS 2020-10-04 Envelopes 2\n",
      "ELSE : Line_Item : 3 100026 CTS 2020-10-04 Markers 82\n",
      "ELSE : Line_Item : 4 100026 CTS 2020-10-04 File Cover 64\n",
      "\n",
      "\n",
      "ELSE : Line_Item : 1 100027 5/3rd 2020-03-13 Printer 85\n",
      "ELSE : Line_Item : 2 100027 5/3rd 2020-03-13 Envelopes 86\n",
      "ELSE : Line_Item : 3 100027 5/3rd 2020-03-13 Notebooks 55\n",
      "\n",
      "\n",
      "ELSE : Line_Item : 1 100028 Kroger 2020-10-27 File Cover 50\n",
      "ELSE : Line_Item : 2 100028 Kroger 2020-10-27 Envelopes 14\n",
      "ELSE : Line_Item : 3 100028 Kroger 2020-10-27 Printer 73\n",
      "ELSE : Line_Item : 4 100028 Kroger 2020-10-27 Pen 37\n",
      "\n",
      "\n",
      "ELSE : Line_Item : 1 100029 USB 2020-04-25 Envelopes 3\n",
      "ELSE : Line_Item : 2 100029 USB 2020-04-25 Printer 60\n",
      "ELSE : Line_Item : 3 100029 USB 2020-04-25 Markers 81\n",
      "ELSE : Line_Item : 4 100029 USB 2020-04-25 Pen 92\n",
      "\n",
      "\n",
      "ELSE : Line_Item : 1 100030 Citi 2020-12-03 File Cover 84\n",
      "ELSE : Line_Item : 2 100030 Citi 2020-12-03 Notebooks 22\n",
      "\n",
      "\n",
      "Wall time: 4.36 s\n"
     ]
    }
   ],
   "source": [
    "%%time\n",
    "for order in range(100001,100031):\n",
    "    #print('Order_id : ' + str(order))\n",
    "    prod=choice(prod_list)\n",
    "    #print(prod)\n",
    "    \n",
    "    start_date = datetime.date(2020, 1, 1)\n",
    "    random_days = randint(1,364)\n",
    "    Order_date = start_date + datetime.timedelta(days=random_days)\n",
    "    #print(Order_date)\n",
    "    \n",
    "    qty=randint(1,100)\n",
    "    #print(qty)\n",
    "    \n",
    "    CompanyName=choice(cust_list)\n",
    "    \n",
    "    \n",
    "    line_item = randint(1,4)\n",
    "    if line_item==1:\n",
    "        #Insert Data into Graph\n",
    "        sess.run(\"MATCH (p:Product{ProdName : $prod})\\\n",
    "                  MATCH (c:Customer{CompanyName : $CompanyName})\\\n",
    "                  MERGE(o:Order{OrderId:$order,OrderDt:$Order_date }) \\\n",
    "                  MERGE (c)-[:PLACED_ORDER]->(o)-[:HAS_PROD{Qty:$qty}]->(p)\\\n",
    "                 \",\n",
    "                 prod=prod,\n",
    "                 order=order,\n",
    "                 Order_date=Order_date,\n",
    "                 CompanyName=CompanyName,\n",
    "                 qty=qty\n",
    "            )\n",
    "        print(str(order) +' '+CompanyName +' '+prod+' '+str(Order_date)+' '+str(qty))\n",
    "    else:\n",
    "        #Insert Data into Graph\n",
    "        sess.run(\"MATCH (c:Customer{CompanyName : $CompanyName})\\\n",
    "                  MERGE(o:Order{OrderId:$order,OrderDt:$Order_date }) \\\n",
    "                  MERGE (c)-[:PLACED_ORDER]->(o)\\\n",
    "                 \",                 \n",
    "                 order=order,\n",
    "                 Order_date=Order_date,\n",
    "                 CompanyName=CompanyName\n",
    "                )\n",
    "        prod_tmp_lst =[]\n",
    "        for i in range(1,line_item+1):\n",
    "            prod=choice(prod_list)\n",
    "            if prod in prod_tmp_lst:\n",
    "                continue\n",
    "            prod_tmp_lst.append(prod)\n",
    "            qty=randint(1,100)\n",
    "            #Insert Data into Graph\n",
    "            sess.run(\"MATCH (p:Product{ProdName : $prod})\\\n",
    "                      MATCH (o:Order{OrderId:$order }) \\\n",
    "                      MERGE (o)-[:HAS_PROD{Qty:$qty}]->(p)\\\n",
    "                     \",\n",
    "                     prod=prod,\n",
    "                     order=order,\n",
    "                     qty=qty\n",
    "                )\n",
    "            print('ELSE : Line_Item : '+str(i)+' '+str(order) +' '+CompanyName+' '+str(Order_date) +' '+prod+' '+str(qty))\n",
    "    print('\\n')"
   ]
  },
  {
   "cell_type": "code",
   "execution_count": null,
   "metadata": {},
   "outputs": [],
   "source": []
  }
 ],
 "metadata": {
  "kernelspec": {
   "display_name": "Python 3",
   "language": "python",
   "name": "python3"
  },
  "language_info": {
   "codemirror_mode": {
    "name": "ipython",
    "version": 3
   },
   "file_extension": ".py",
   "mimetype": "text/x-python",
   "name": "python",
   "nbconvert_exporter": "python",
   "pygments_lexer": "ipython3",
   "version": "3.7.6"
  }
 },
 "nbformat": 4,
 "nbformat_minor": 4
}
